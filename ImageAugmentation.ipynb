{
 "cells": [
  {
   "cell_type": "code",
   "execution_count": 1,
   "id": "540de955",
   "metadata": {},
   "outputs": [],
   "source": [
    "import os\n",
    "import numpy as np\n",
    "import pandas as pd\n",
    "from tensorflow.keras.utils import img_to_array, array_to_img, load_img\n",
    "from keras.preprocessing.image import ImageDataGenerator\n",
    "import zipfile\n"
   ]
  },
  {
   "cell_type": "code",
   "execution_count": 2,
   "id": "486ba7aa",
   "metadata": {},
   "outputs": [],
   "source": [
    "#Unzipping Source folder\n",
    "with zipfile.ZipFile('Training.zip', 'r') as zip_ref:\n",
    "    zip_ref.extractall()"
   ]
  },
  {
   "cell_type": "code",
   "execution_count": 3,
   "id": "f0a20776",
   "metadata": {},
   "outputs": [],
   "source": [
    "# https://blog.devgenius.io/data-augmentation-programming-e9a4703198be\n",
    "# you can select from the below Args\n",
    "image_datagen = ImageDataGenerator(\n",
    "    featurewise_center=False,\n",
    "    samplewise_center=False,\n",
    "    featurewise_std_normalization=False,\n",
    "    samplewise_std_normalization=False,\n",
    "    zca_whitening=False,\n",
    "    zca_epsilon=1e-06,\n",
    "    rotation_range=0,\n",
    "    width_shift_range=0.1,\n",
    "    height_shift_range=0.0,\n",
    "    brightness_range=None,\n",
    "    shear_range=0.1,\n",
    "    zoom_range=0.2,\n",
    "    channel_shift_range=0.0,\n",
    "    fill_mode='nearest',\n",
    "    cval=0.0,\n",
    "    horizontal_flip=False,\n",
    "    vertical_flip=False,\n",
    "    rescale=None)\n",
    "\n",
    "sourceImagesPath = 'Training'\n",
    "augementedPath='Augmented'\n",
    "for folder in os.listdir(sourceImagesPath):\n",
    "    if folder != '.ipynb_checkpoints':\n",
    "        # Creating a folder if it does not exist with a class name in the augmented folder \n",
    "        isfolderExist = os.path.exists(os.path.join(augementedPath, folder))\n",
    "        if isfolderExist == False:\n",
    "            os.makedirs(os.path.join(augementedPath, folder))\n",
    "            \n",
    "        for filename in os.listdir(os.path.join(sourceImagesPath, folder)):\n",
    "            if filename != '.ipynb_checkpoints':\n",
    "                img = load_img(os.path.join(os.path.join(sourceImagesPath, folder), filename))  \n",
    "                x = img_to_array(img) \n",
    "                x = x.reshape((1, ) + x.shape)  \n",
    "                i = 0\n",
    "                # Starting image augmentation\n",
    "                for batch in image_datagen.flow(x, batch_size = 1, \n",
    "                                  save_to_dir =os.path.join(augementedPath, folder),  \n",
    "                                  save_prefix ='Augmented_'+ folder, save_format ='jpeg'): # folder is a class name\n",
    "                    i += 1\n",
    "                    if i > 3: # You can change iterations for number of augmented images for each original image as you want \n",
    "                        break"
   ]
  },
  {
   "cell_type": "markdown",
   "id": "eccf6318",
   "metadata": {},
   "source": [
    "# Zip File"
   ]
  },
  {
   "cell_type": "code",
   "execution_count": 4,
   "id": "f0c0c030",
   "metadata": {},
   "outputs": [
    {
     "name": "stderr",
     "output_type": "stream",
     "text": [
      "a Augmented\n",
      "a Augmented/A\n",
      "a Augmented/B\n",
      "a Augmented/B/Augmented_B_0_1540.jpeg\n",
      "a Augmented/B/Augmented_B_0_2048.jpeg\n",
      "a Augmented/B/Augmented_B_0_2702.jpeg\n",
      "a Augmented/B/Augmented_B_0_3049.jpeg\n",
      "a Augmented/B/Augmented_B_0_3891.jpeg\n",
      "a Augmented/B/Augmented_B_0_5406.jpeg\n",
      "a Augmented/B/Augmented_B_0_5618.jpeg\n",
      "a Augmented/B/Augmented_B_0_6608.jpeg\n",
      "a Augmented/B/Augmented_B_0_6663.jpeg\n",
      "a Augmented/B/Augmented_B_0_677.jpeg\n",
      "a Augmented/B/Augmented_B_0_6923.jpeg\n",
      "a Augmented/B/Augmented_B_0_7028.jpeg\n",
      "a Augmented/B/Augmented_B_0_740.jpeg\n",
      "a Augmented/B/Augmented_B_0_8210.jpeg\n",
      "a Augmented/B/Augmented_B_0_8239.jpeg\n",
      "a Augmented/B/Augmented_B_0_8250.jpeg\n",
      "a Augmented/A/Augmented_A_0_1438.jpeg\n",
      "a Augmented/A/Augmented_A_0_1810.jpeg\n",
      "a Augmented/A/Augmented_A_0_2052.jpeg\n",
      "a Augmented/A/Augmented_A_0_2251.jpeg\n",
      "a Augmented/A/Augmented_A_0_3004.jpeg\n",
      "a Augmented/A/Augmented_A_0_3083.jpeg\n",
      "a Augmented/A/Augmented_A_0_3918.jpeg\n",
      "a Augmented/A/Augmented_A_0_4517.jpeg\n",
      "a Augmented/A/Augmented_A_0_5393.jpeg\n",
      "a Augmented/A/Augmented_A_0_6051.jpeg\n",
      "a Augmented/A/Augmented_A_0_9198.jpeg\n",
      "a Augmented/A/Augmented_A_0_9585.jpeg\n"
     ]
    }
   ],
   "source": [
    "#Compressing augmented images to download\n",
    "!tar chvfz AugmentedImages.tar.gz Augmented"
   ]
  },
  {
   "cell_type": "code",
   "execution_count": null,
   "id": "a1fcc795",
   "metadata": {},
   "outputs": [],
   "source": []
  }
 ],
 "metadata": {
  "kernelspec": {
   "display_name": "Python 3 (ipykernel)",
   "language": "python",
   "name": "python3"
  },
  "language_info": {
   "codemirror_mode": {
    "name": "ipython",
    "version": 3
   },
   "file_extension": ".py",
   "mimetype": "text/x-python",
   "name": "python",
   "nbconvert_exporter": "python",
   "pygments_lexer": "ipython3",
   "version": "3.9.13"
  }
 },
 "nbformat": 4,
 "nbformat_minor": 5
}
